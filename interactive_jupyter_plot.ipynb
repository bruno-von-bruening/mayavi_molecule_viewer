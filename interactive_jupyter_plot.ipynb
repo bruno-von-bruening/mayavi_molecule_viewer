{
 "cells": [
  {
   "cell_type": "code",
   "execution_count": 1,
   "metadata": {},
   "outputs": [
    {
     "name": "stdout",
     "output_type": "stream",
     "text": [
      "Notebook initialized with ipy backend.\n"
     ]
    }
   ],
   "source": [
    "import numpy as np\n",
    "from mayavi import mlab\n",
    "mlab.init_notebook() # Allows for interactive matlab plots\n",
    "\n",
    "import mayavi_viewer"
   ]
  },
  {
   "cell_type": "code",
   "execution_count": 2,
   "metadata": {},
   "outputs": [
    {
     "data": {
      "application/vnd.jupyter.widget-view+json": {
       "model_id": "d1eb0c9452db432ebf077e391c7c5d1a",
       "version_major": 2,
       "version_minor": 0
      },
      "text/plain": [
       "Image(value=b'\\x89PNG\\r\\n\\x1a\\n\\x00\\x00\\x00\\rIHDR\\x00\\x00\\x01^\\x00\\x00\\x01^\\x08\\x02\\x00\\x00\\x00BI\\xe0M\\x00\\x00…"
      ]
     },
     "metadata": {},
     "output_type": "display_data"
    }
   ],
   "source": [
    "geom_fi=\"moment_files/conf_1_ISA-GRID.mom\"\n",
    "map_fi=\"map_files/conf_1_ISA-GRID_dip_iso-p001.map\"\n",
    "\n",
    "view_object=mayavi_viewer.plot_esp_surface(esp=map_fi, geom=geom_fi, opacity=1)\n",
    "view_object[0]"
   ]
  }
 ],
 "metadata": {
  "kernelspec": {
   "display_name": "bigger_base",
   "language": "python",
   "name": "python3"
  },
  "language_info": {
   "codemirror_mode": {
    "name": "ipython",
    "version": 3
   },
   "file_extension": ".py",
   "mimetype": "text/x-python",
   "name": "python",
   "nbconvert_exporter": "python",
   "pygments_lexer": "ipython3",
   "version": "3.12.5"
  }
 },
 "nbformat": 4,
 "nbformat_minor": 2
}
